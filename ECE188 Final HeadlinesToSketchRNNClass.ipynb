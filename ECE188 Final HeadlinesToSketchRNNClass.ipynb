{
 "cells": [
  {
   "cell_type": "code",
   "execution_count": 3,
   "metadata": {},
   "outputs": [],
   "source": [
    "!export XDG_CACHE_HOME=/datasets/home/90/490/$(whoami)/.cache"
   ]
  },
  {
   "cell_type": "code",
   "execution_count": null,
   "metadata": {},
   "outputs": [],
   "source": [
    "!pip install newsapi-python --user\n",
    "from newsapi import NewsApiClient\n",
    "\n",
    "sources = 'bbc-news, fortune, google-news, hacker-news, techradar, techcrunch, the-wall-street-journal, wired'\n",
    "newsapi = NewsApiClient(api_key='YourToken')\n",
    "top_headlines = newsapi.get_everything(q='AI', sources=sources, language='en')"
   ]
  },
  {
   "cell_type": "code",
   "execution_count": 44,
   "metadata": {},
   "outputs": [],
   "source": [
    "import nltk\n",
    "from nltk.corpus import wordnet as wn"
   ]
  },
  {
   "cell_type": "code",
   "execution_count": 45,
   "metadata": {},
   "outputs": [],
   "source": [
    "# could not get pip working for the newsapi so just did it locally then went back to datahub for nltk\n",
    "titles = ['Daily Crunch: Twitter acquires Fabula AI',\n",
    " \"This AI Uses Echolocation to Identify What You're Doing\",\n",
    " 'When will customers start buying all those AI chips?',\n",
    " 'Getaround, Facebook, AI chips, Nvidia, Africa, and immigration',\n",
    " 'Huawei launches AI-backed database to target enterprise customers',\n",
    " 'Robotics startups won’t win without also incorporating AI, as Karakuri’s fundraise shows',\n",
    " \"Inside Facebook's New Robotics Lab, Where AI and Machines Friend One Another\",\n",
    " 'Pearl, the healthcare spinout from LA-based AI startup, GumGum, raises $11 million',\n",
    " 'Amazon will use AI to help you shop for clothes with StyleSnap',\n",
    " 'SentinelOne raises $120M for its fully-autonomous, AI-based endpoint security solution',\n",
    " 'Self-driving delivery van startup Gatik AI comes out of stealth with Walmart partnership',\n",
    " 'LG developed its own AI chip to make its smart home products even smarter',\n",
    " 'MIT and U.S. Air Force team up to launch AI accelerator',\n",
    " 'For less than $10, anyone can make an AI write a fake UN speech',\n",
    " 'Alibaba-backed facial recognition startup Megvii raises $750 million',\n",
    " 'Bill Gates, NEO, Gigafund backing Luminous in photonics supercomputer moonshot',\n",
    " 'Google’s Latest Message: We’re Just Here to Help',\n",
    " 'Verified Expert Brand Designer: Base',\n",
    " 'Hailo launches its newest deep learning chip',\n",
    " 'Sam Altman’s leap of faith']"
   ]
  },
  {
   "cell_type": "code",
   "execution_count": 59,
   "metadata": {},
   "outputs": [],
   "source": [
    "qd =['alarm_clock',\n",
    "  'ambulance',\n",
    "  'angel',\n",
    "  'ant',\n",
    "  'antyoga',\n",
    "  'backpack',\n",
    "  'barn',\n",
    "  'basket',\n",
    "  'bear',\n",
    "  'bee',\n",
    "  'beeflower',\n",
    "  'bicycle',\n",
    "  'bird',\n",
    "  'book',\n",
    "  'brain',\n",
    "  'bridge',\n",
    "  'bulldozer',\n",
    "  'bus',\n",
    "  'butterfly',\n",
    "  'cactus',\n",
    "  'calendar',\n",
    "  'castle',\n",
    "  'cat',\n",
    "  'catbus',\n",
    "  'catpig',\n",
    "  'chair',\n",
    "  'couch',\n",
    "  'crab',\n",
    "  'crabchair',\n",
    "  'crabrabbitfacepig',\n",
    "  'cruise_ship',\n",
    "  'diving_board',\n",
    "  'dog',\n",
    "  'dogbunny',\n",
    "  'dolphin',\n",
    "  'duck',\n",
    "  'elephant',\n",
    "  'elephantpig',\n",
    "  'eye',\n",
    "  'face',\n",
    "  'fan',\n",
    "  'fire_hydrant',\n",
    "  'firetruck',\n",
    "  'flamingo',\n",
    "  'flower',\n",
    "  'floweryoga',\n",
    "  'frog',\n",
    "  'frogsofa',\n",
    "  'garden',\n",
    "  'hand',\n",
    "  'hedgeberry',\n",
    "  'hedgehog',\n",
    "  'helicopter',\n",
    "  'kangaroo',\n",
    "  'key',\n",
    "  'lantern',\n",
    "  'lighthouse',\n",
    "  'lion',\n",
    "  'lionsheep',\n",
    "  'lobster',\n",
    "  'map',\n",
    "  'mermaid',\n",
    "  'monapassport',\n",
    "  'monkey',\n",
    "  'mosquito',\n",
    "  'octopus',\n",
    "  'owl',\n",
    "  'paintbrush',\n",
    "  'palm_tree',\n",
    "  'parrot',\n",
    "  'passport',\n",
    "  'peas',\n",
    "  'penguin',\n",
    "  'pig',\n",
    "  'pigsheep',\n",
    "  'pineapple',\n",
    "  'pool',\n",
    "  'postcard',\n",
    "  'power_outlet',\n",
    "  'rabbit',\n",
    "  'rabbitturtle',\n",
    "  'radio',\n",
    "  'radioface',\n",
    "  'rain',\n",
    "  'rhinoceros',\n",
    "  'rifle',\n",
    "  'roller_coaster',\n",
    "  'sandwich',\n",
    "  'scorpion',\n",
    "  'sea_turtle',\n",
    "  'sheep',\n",
    "  'skull',\n",
    "  'snail',\n",
    "  'snowflake',\n",
    "  'speedboat',\n",
    "  'spider',\n",
    "  'squirrel',\n",
    "  'steak',\n",
    "  'stove',\n",
    "  'strawberry',\n",
    "  'swan',\n",
    "  'swing_set',\n",
    "  'the_mona_lisa',\n",
    "  'tiger',\n",
    "  'toothbrush',\n",
    "  'toothpaste',\n",
    "  'tractor',\n",
    "  'trombone',\n",
    "  'truck',\n",
    "  'whale',\n",
    "  'windmill',\n",
    "  'yoga',\n",
    "  'yogabicycle',\n",
    "  'everything']"
   ]
  },
  {
   "cell_type": "code",
   "execution_count": 60,
   "metadata": {},
   "outputs": [],
   "source": [
    "#discarding quickdraw classes containing more than one word\n",
    "cleanQD = []\n",
    "for w in qd:\n",
    "    if len(w.split(' ')) > 1:\n",
    "        print(\"discarding: \" + w)\n",
    "    else:\n",
    "        cleanQD.append(w)"
   ]
  },
  {
   "cell_type": "code",
   "execution_count": 61,
   "metadata": {},
   "outputs": [
    {
     "name": "stdout",
     "output_type": "stream",
     "text": [
      "discarding: antyoga\n",
      "discarding: beeflower\n",
      "discarding: catbus\n",
      "discarding: catpig\n",
      "discarding: crabchair\n",
      "discarding: crabrabbitfacepig\n",
      "discarding: dogbunny\n",
      "discarding: elephantpig\n",
      "discarding: firetruck\n",
      "discarding: floweryoga\n",
      "discarding: frogsofa\n",
      "discarding: hedgeberry\n",
      "discarding: lionsheep\n",
      "discarding: monapassport\n",
      "discarding: pigsheep\n",
      "discarding: power_outlet\n",
      "discarding: rabbitturtle\n",
      "discarding: radioface\n",
      "discarding: swing_set\n",
      "discarding: the_mona_lisa\n",
      "discarding: yogabicycle\n",
      "discarding: everything\n"
     ]
    }
   ],
   "source": [
    "#discarding quickdraw classes that do not have synsets (needed for comparison)\n",
    "synQD = []\n",
    "for w in cleanQD:\n",
    "    if len(wn.synsets(w)) > 0:\n",
    "        synQD.append(wn.synsets(w)[0])\n",
    "    else:\n",
    "        print(\"discarding: \" + w)\n"
   ]
  },
  {
   "cell_type": "code",
   "execution_count": 63,
   "metadata": {},
   "outputs": [
    {
     "name": "stdout",
     "output_type": "stream",
     "text": [
      "remaining sketchRNN classes: 92\n"
     ]
    }
   ],
   "source": [
    "print(\"remaining sketchRNN classes: %d\" % len(synQD) )"
   ]
  },
  {
   "cell_type": "code",
   "execution_count": 64,
   "metadata": {},
   "outputs": [],
   "source": [
    "qdTitles = []\n",
    "for j in range(len(titles)):\n",
    "    titleSN = []\n",
    "    # creating synsets for each word in title\n",
    "    for w in titles[j].split(' '):\n",
    "        if len(wn.synsets(w)) > 0:\n",
    "            titleSN.append(wn.synsets(w)[0])\n",
    "    \n",
    "    if(len(titleSN) == 0):\n",
    "        continue\n",
    "        \n",
    "    # comparing each word in title by similarity to the quickdraw classes\n",
    "    simWords = []\n",
    "    for sn in titleSN:\n",
    "        wordSim = [sn.path_similarity(s) for s in synQD]\n",
    "        simWords.append(wordSim)\n",
    "    \n",
    "    simWords = np.array(simWords)\n",
    "    if(len(simWords) == 0):\n",
    "        continue\n",
    "        \n",
    "    # extracting most similar word to title word\n",
    "    closestToTitle = []\n",
    "    try:\n",
    "        for i in range(len(titleSN)):\n",
    "            qdCounterpart = [None, None]\n",
    "            qdCounterpart[1] = qd[np.argmax(simWords[i])]\n",
    "            qdCounterpart[0] = np.max(simWords[i])\n",
    "            closestToTitle.append(qdCounterpart)\n",
    "    except:\n",
    "        continue\n",
    "        \n",
    "    # taking top 3 most similar\n",
    "    closestToTitle.sort(reverse=True)\n",
    "    qdTitles.append([titles[j], [s[1] for s in closestToTitle[:3]]])"
   ]
  },
  {
   "cell_type": "code",
   "execution_count": 65,
   "metadata": {
    "scrolled": true
   },
   "outputs": [
    {
     "data": {
      "text/plain": [
       "[['Daily Crunch: Twitter acquires Fabula AI',\n",
       "  ['passport', 'barn', 'butterfly']],\n",
       " [\"This AI Uses Echolocation to Identify What You're Doing\",\n",
       "  ['passport', 'passport', 'butterfly']],\n",
       " ['Getaround, Facebook, AI chips, Nvidia, Africa, and immigration',\n",
       "  ['butterfly', 'butterfly']],\n",
       " ['Huawei launches AI-backed database to target enterprise customers',\n",
       "  ['pool', 'passport', 'lighthouse']],\n",
       " ['Pearl, the healthcare spinout from LA-based AI startup, GumGum, raises $11 million',\n",
       "  ['palm_tree', 'butterfly', 'butterfly']],\n",
       " ['Amazon will use AI to help you shop for clothes with StyleSnap',\n",
       "  ['passport', 'book', 'book']],\n",
       " ['SentinelOne raises $120M for its fully-autonomous, AI-based endpoint security solution',\n",
       "  ['pineapple', 'palm_tree', 'angel']],\n",
       " ['Self-driving delivery van startup Gatik AI comes out of stealth with Walmart partnership',\n",
       "  ['pineapple', 'butterfly', 'butterfly']],\n",
       " ['MIT and U.S. Air Force team up to launch AI accelerator',\n",
       "  ['pool', 'book', 'pineapple']],\n",
       " ['For less than $10, anyone can make an AI write a fake UN speech',\n",
       "  ['barn', 'frogsofa', 'butterfly']],\n",
       " ['Alibaba-backed facial recognition startup Megvii raises $750 million',\n",
       "  ['palm_tree', 'pig', 'palm_tree']],\n",
       " ['Verified Expert Brand Designer: Base', ['passport', 'book', 'passport']],\n",
       " ['Sam Altman’s leap of faith', ['skull', 'bee', 'butterfly']]]"
      ]
     },
     "execution_count": 65,
     "metadata": {},
     "output_type": "execute_result"
    }
   ],
   "source": [
    "qdTitles"
   ]
  },
  {
   "cell_type": "code",
   "execution_count": null,
   "metadata": {},
   "outputs": [],
   "source": []
  }
 ],
 "metadata": {
  "kernelspec": {
   "display_name": "Python 3",
   "language": "python",
   "name": "python3"
  },
  "language_info": {
   "codemirror_mode": {
    "name": "ipython",
    "version": 3
   },
   "file_extension": ".py",
   "mimetype": "text/x-python",
   "name": "python",
   "nbconvert_exporter": "python",
   "pygments_lexer": "ipython3",
   "version": "3.6.8"
  }
 },
 "nbformat": 4,
 "nbformat_minor": 2
}
